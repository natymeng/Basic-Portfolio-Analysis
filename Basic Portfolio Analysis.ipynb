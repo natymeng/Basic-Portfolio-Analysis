{
 "cells": [
  {
   "cell_type": "markdown",
   "id": "d62cf996",
   "metadata": {},
   "source": [
    "# Basic Portfolio Analysis"
   ]
  },
  {
   "cell_type": "markdown",
   "id": "0c54977c",
   "metadata": {},
   "source": [
    "## 0. Data\n",
    "\n",
    "Utilize the readily available Yahoo Finance data"
   ]
  },
  {
   "cell_type": "code",
   "execution_count": 3,
   "id": "b68c0f1a",
   "metadata": {},
   "outputs": [],
   "source": [
    "import numpy as np\n",
    "import pandas as pd\n",
    "from pandas_datareader import data as pdr\n",
    "import yfinance as yf\n",
    "yf.pdr_override()\n",
    "from datetime import datetime\n"
   ]
  },
  {
   "cell_type": "code",
   "execution_count": 23,
   "id": "430d4be2",
   "metadata": {},
   "outputs": [
    {
     "name": "stdout",
     "output_type": "stream",
     "text": [
      "[*********************100%***********************]  3 of 3 completed\n"
     ]
    },
    {
     "data": {
      "text/html": [
       "<div>\n",
       "<style scoped>\n",
       "    .dataframe tbody tr th:only-of-type {\n",
       "        vertical-align: middle;\n",
       "    }\n",
       "\n",
       "    .dataframe tbody tr th {\n",
       "        vertical-align: top;\n",
       "    }\n",
       "\n",
       "    .dataframe thead th {\n",
       "        text-align: right;\n",
       "    }\n",
       "</style>\n",
       "<table border=\"1\" class=\"dataframe\">\n",
       "  <thead>\n",
       "    <tr style=\"text-align: right;\">\n",
       "      <th></th>\n",
       "      <th>DIS</th>\n",
       "      <th>JPM</th>\n",
       "      <th>SHEL</th>\n",
       "    </tr>\n",
       "    <tr>\n",
       "      <th>Date</th>\n",
       "      <th></th>\n",
       "      <th></th>\n",
       "      <th></th>\n",
       "    </tr>\n",
       "  </thead>\n",
       "  <tbody>\n",
       "    <tr>\n",
       "      <th>1995-01-03</th>\n",
       "      <td>11.607052</td>\n",
       "      <td>5.434782</td>\n",
       "      <td>7.622498</td>\n",
       "    </tr>\n",
       "    <tr>\n",
       "      <th>1995-01-04</th>\n",
       "      <td>11.513696</td>\n",
       "      <td>5.528482</td>\n",
       "      <td>7.622498</td>\n",
       "    </tr>\n",
       "    <tr>\n",
       "      <th>1995-01-05</th>\n",
       "      <td>11.482578</td>\n",
       "      <td>5.584704</td>\n",
       "      <td>7.587251</td>\n",
       "    </tr>\n",
       "  </tbody>\n",
       "</table>\n",
       "</div>"
      ],
      "text/plain": [
       "                  DIS       JPM      SHEL\n",
       "Date                                     \n",
       "1995-01-03  11.607052  5.434782  7.622498\n",
       "1995-01-04  11.513696  5.528482  7.622498\n",
       "1995-01-05  11.482578  5.584704  7.587251"
      ]
     },
     "execution_count": 23,
     "metadata": {},
     "output_type": "execute_result"
    }
   ],
   "source": [
    "# We choose a few stocks with long history\n",
    "tickers = ['JPM','DIS','SHEL']\n",
    "startdate = datetime(1995,1,1)\n",
    "\n",
    "close_px = pdr.get_data_yahoo(tickers, start=startdate)['Adj Close']\n",
    "# fill na with previous close \n",
    "close_px.fillna(method = 'backfill', inplace=True)\n",
    "close_px.head(3)"
   ]
  },
  {
   "cell_type": "code",
   "execution_count": 82,
   "id": "6aeaa527",
   "metadata": {},
   "outputs": [
    {
     "data": {
      "text/html": [
       "<div>\n",
       "<style scoped>\n",
       "    .dataframe tbody tr th:only-of-type {\n",
       "        vertical-align: middle;\n",
       "    }\n",
       "\n",
       "    .dataframe tbody tr th {\n",
       "        vertical-align: top;\n",
       "    }\n",
       "\n",
       "    .dataframe thead th {\n",
       "        text-align: right;\n",
       "    }\n",
       "</style>\n",
       "<table border=\"1\" class=\"dataframe\">\n",
       "  <thead>\n",
       "    <tr style=\"text-align: right;\">\n",
       "      <th></th>\n",
       "      <th>DIS</th>\n",
       "      <th>JPM</th>\n",
       "      <th>SHEL</th>\n",
       "    </tr>\n",
       "    <tr>\n",
       "      <th>Date</th>\n",
       "      <th></th>\n",
       "      <th></th>\n",
       "      <th></th>\n",
       "    </tr>\n",
       "  </thead>\n",
       "  <tbody>\n",
       "    <tr>\n",
       "      <th>1995-01-04</th>\n",
       "      <td>-0.008043</td>\n",
       "      <td>0.017241</td>\n",
       "      <td>0.000000</td>\n",
       "    </tr>\n",
       "    <tr>\n",
       "      <th>1995-01-05</th>\n",
       "      <td>-0.002703</td>\n",
       "      <td>0.010169</td>\n",
       "      <td>-0.004624</td>\n",
       "    </tr>\n",
       "    <tr>\n",
       "      <th>1995-01-06</th>\n",
       "      <td>-0.002710</td>\n",
       "      <td>0.003356</td>\n",
       "      <td>-0.001152</td>\n",
       "    </tr>\n",
       "  </tbody>\n",
       "</table>\n",
       "</div>"
      ],
      "text/plain": [
       "                 DIS       JPM      SHEL\n",
       "Date                                    \n",
       "1995-01-04 -0.008043  0.017241  0.000000\n",
       "1995-01-05 -0.002703  0.010169 -0.004624\n",
       "1995-01-06 -0.002710  0.003356 -0.001152"
      ]
     },
     "execution_count": 82,
     "metadata": {},
     "output_type": "execute_result"
    }
   ],
   "source": [
    "returns = close_px.pct_change()\n",
    "returns.dropna(inplace = True)\n",
    "returns.head(3)"
   ]
  },
  {
   "cell_type": "markdown",
   "id": "97882063",
   "metadata": {},
   "source": [
    "## 1. Returns & Risks\n",
    "### Returns:"
   ]
  },
  {
   "cell_type": "code",
   "execution_count": 83,
   "id": "d7a7bdb9",
   "metadata": {},
   "outputs": [
    {
     "data": {
      "text/plain": [
       "DIS      666.516790\n",
       "JPM     2412.704223\n",
       "SHEL     634.404906\n",
       "dtype: float64"
      ]
     },
     "execution_count": 83,
     "metadata": {},
     "output_type": "execute_result"
    }
   ],
   "source": [
    "# Calculate the cumulative return, expressed in %\n",
    "((returns+1).prod()-1)*100"
   ]
  },
  {
   "cell_type": "code",
   "execution_count": 84,
   "id": "c8147b56",
   "metadata": {},
   "outputs": [
    {
     "data": {
      "text/plain": [
       "<AxesSubplot:xlabel='Date'>"
      ]
     },
     "execution_count": 84,
     "metadata": {},
     "output_type": "execute_result"
    },
    {
     "data": {
      "image/png": "[encoded data removed]",
      "text/plain": [
       "<Figure size 1080x288 with 1 Axes>"
      ]
     },
     "metadata": {
      "needs_background": "light"
     },
     "output_type": "display_data"
    }
   ],
   "source": [
    "# Evolution of returns\n",
    "(returns+1).cumprod().plot.line(figsize = (15, 4))"
   ]
  },
  {
   "cell_type": "code",
   "execution_count": 85,
   "id": "55ab3787",
   "metadata": {},
   "outputs": [
    {
     "data": {
      "text/plain": [
       "DIS      7.799322\n",
       "JPM     12.623520\n",
       "SHEL     7.629342\n",
       "dtype: float64"
      ]
     },
     "execution_count": 85,
     "metadata": {},
     "output_type": "execute_result"
    }
   ],
   "source": [
    "# Annualized return for this period \n",
    "((((returns+1).prod())**(1/len(returns)))**(260)-1)*100"
   ]
  },
  {
   "cell_type": "markdown",
   "id": "76fe480d",
   "metadata": {},
   "source": [
    "### Risk measures:\n",
    "1. Standard Deviation\n",
    "2. Max drawdown\n",
    "3. Semi deviation"
   ]
  },
  {
   "cell_type": "code",
   "execution_count": 86,
   "id": "86c1e8dc",
   "metadata": {},
   "outputs": [
    {
     "data": {
      "text/plain": [
       "DIS     31.195834\n",
       "JPM     38.297557\n",
       "SHEL    29.382922\n",
       "dtype: float64"
      ]
     },
     "execution_count": 86,
     "metadata": {},
     "output_type": "execute_result"
    }
   ],
   "source": [
    "# Calculate the annualized St Dev, expressed in %\n",
    "returns.std()*(260**0.5)*100"
   ]
  },
  {
   "cell_type": "code",
   "execution_count": 87,
   "id": "dbf6923f",
   "metadata": {},
   "outputs": [
    {
     "data": {
      "text/plain": [
       "DIS    -0.678808\n",
       "JPM    -0.740207\n",
       "SHEL   -0.672374\n",
       "dtype: float64"
      ]
     },
     "execution_count": 87,
     "metadata": {},
     "output_type": "execute_result"
    }
   ],
   "source": [
    "# Calculate Max drawdown\n",
    "cum_returns = (returns+1).cumprod()\n",
    "prev_peaks = (returns+1).cumprod().cummax()\n",
    "drawdowns = (cum_returns - prev_peaks) / prev_peaks\n",
    "maxdrawdown = drawdowns.min()\n",
    "maxdrawdown"
   ]
  },
  {
   "cell_type": "code",
   "execution_count": 88,
   "id": "b12afb64",
   "metadata": {},
   "outputs": [
    {
     "data": {
      "text/plain": [
       "DIS    2002-08-13\n",
       "JPM    2002-10-09\n",
       "SHEL   2020-03-18\n",
       "dtype: datetime64[ns]"
      ]
     },
     "execution_count": 88,
     "metadata": {},
     "output_type": "execute_result"
    }
   ],
   "source": [
    "maxdrawdown_date = drawdowns.idxmin()\n",
    "maxdrawdown_date"
   ]
  },
  {
   "cell_type": "code",
   "execution_count": 89,
   "id": "f916e28a",
   "metadata": {},
   "outputs": [
    {
     "data": {
      "text/plain": [
       "DIS     22.002794\n",
       "JPM     27.219214\n",
       "SHEL    21.949387\n",
       "dtype: float64"
      ]
     },
     "execution_count": 89,
     "metadata": {},
     "output_type": "execute_result"
    }
   ],
   "source": [
    "# Calculate semi deviation, i.e. the negative deviation \n",
    "returns[returns<0].std()*(260**0.5)*100"
   ]
  },
  {
   "cell_type": "markdown",
   "id": "9e72cf16",
   "metadata": {},
   "source": [
    "### Risk adjusted return: Sharpe ratio"
   ]
  },
  {
   "cell_type": "code",
   "execution_count": 90,
   "id": "4acfad83",
   "metadata": {},
   "outputs": [
    {
     "data": {
      "text/plain": [
       "DIS     0.153845\n",
       "JPM     0.251283\n",
       "SHEL    0.157552\n",
       "dtype: float64"
      ]
     },
     "execution_count": 90,
     "metadata": {},
     "output_type": "execute_result"
    }
   ],
   "source": [
    "# Asssume risk free rate of 3%, calculate the annulized Sharpe for the period\n",
    "rf = 0.03\n",
    "ann_ret = ((((returns+1).prod())**(1/len(returns)))**(260)-1)*100\n",
    "ann_std = returns.std()*(260**0.5)*100\n",
    "\n",
    "sharpe = (ann_ret - rf*100)/ann_std\n",
    "sharpe"
   ]
  },
  {
   "cell_type": "markdown",
   "id": "5bc23f10",
   "metadata": {},
   "source": [
    "### Value at Risk\n",
    "1. Historical VaR\n",
    "2. Gaussian VaR\n",
    "3. Semi parametric Cornish-Fisher VaR"
   ]
  },
  {
   "cell_type": "code",
   "execution_count": 111,
   "id": "aac2317c",
   "metadata": {},
   "outputs": [
    {
     "data": {
      "text/plain": [
       "array([0.02838529, 0.03339026, 0.02616216])"
      ]
     },
     "execution_count": 111,
     "metadata": {},
     "output_type": "execute_result"
    }
   ],
   "source": [
    "# Calculate historical daily VaR at 95% confidence\n",
    "-np.percentile(returns, (1-0.95)*100,  axis = 0)"
   ]
  },
  {
   "cell_type": "code",
   "execution_count": 112,
   "id": "4e7aeb5f",
   "metadata": {},
   "outputs": [],
   "source": [
    "# Calculate Gaussian VaR\n",
    "import scipy.stats as stats"
   ]
  },
  {
   "cell_type": "code",
   "execution_count": 113,
   "id": "03bf2211",
   "metadata": {},
   "outputs": [
    {
     "data": {
      "text/plain": [
       "DIS     0.031347\n",
       "JPM     0.038330\n",
       "SHEL    0.029524\n",
       "dtype: float64"
      ]
     },
     "execution_count": 113,
     "metadata": {},
     "output_type": "execute_result"
    }
   ],
   "source": [
    "zscore = stats.norm.ppf(1-0.95)\n",
    "GVaR = -(returns.mean() + zscore*returns.std())\n",
    "GVaR"
   ]
  },
  {
   "cell_type": "code",
   "execution_count": 114,
   "id": "4dc016a6",
   "metadata": {},
   "outputs": [
    {
     "data": {
      "text/plain": [
       "DIS     0.026625\n",
       "JPM     0.026572\n",
       "SHEL    0.025604\n",
       "dtype: float64"
      ]
     },
     "execution_count": 114,
     "metadata": {},
     "output_type": "execute_result"
    }
   ],
   "source": [
    "# Calculate Cornish-Fisher VaR\n",
    "\n",
    "skewness = (((returns - returns.mean())**3).mean())/(returns.std()**3)\n",
    "kurtosis = (((returns - returns.mean())**4).mean())/(returns.std()**4)\n",
    "z =  (zscore +\n",
    "        (zscore**2 - 1)*skewness/6 +\n",
    "        (zscore**3 -3*zscore)*(kurtosis-3)/24 -\n",
    "        (2*zscore**3 - 5*zscore)*(skewness**2)/36\n",
    "      )\n",
    "\n",
    "CFVaR = -(returns.mean() + z*returns.std())\n",
    "CFVaR"
   ]
  },
  {
   "cell_type": "code",
   "execution_count": null,
   "id": "ad754ca3",
   "metadata": {},
   "outputs": [],
   "source": []
  }
 ],
 "metadata": {
  "kernelspec": {
   "display_name": "Python 3 (ipykernel)",
   "language": "python",
   "name": "python3"
  },
  "language_info": {
   "codemirror_mode": {
    "name": "ipython",
    "version": 3
   },
   "file_extension": ".py",
   "mimetype": "text/x-python",
   "name": "python",
   "nbconvert_exporter": "python",
   "pygments_lexer": "ipython3",
   "version": "3.9.7"
  }
 },
 "nbformat": 4,
 "nbformat_minor": 5
}
